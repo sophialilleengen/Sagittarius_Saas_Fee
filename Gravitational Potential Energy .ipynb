{
 "cells": [
  {
   "cell_type": "code",
   "execution_count": null,
   "metadata": {},
   "outputs": [],
   "source": [
    "import numpy as np"
   ]
  },
  {
   "cell_type": "code",
   "execution_count": null,
   "metadata": {},
   "outputs": [],
   "source": [
    "#using the potential described in https://arxiv.org/pdf/1611.00222.pdf section 3.2, identical to that used in their\n",
    "#recent Nature paper\n",
    "\n",
    "#defining the constants in pc\n",
    "a = 6.5 * 10 **(3)\n",
    "b = .26 * 10 **(3)\n",
    "c = 0.7 * 10 **(3)\n",
    "d = 12 * 10 **(3)\n",
    "\n",
    "#potential for each portion of the galaxy, where r and z are from your data\n",
    "halo = (173.2)**2 * np.log(1 + (r**2 / d**2) + (z**2 / d**2))\n",
    "disk = - (4.302  *  10**(-3) * 6.3 * 10**(10)) / (np.sqrt(r**2 + (a + np.sqrt(z**2 + b**2))**2))\n",
    "bulge = - (4.302 * 10**(-3) * 2.1 * 10**(10))/ (np.sqrt(r**2 + z**2) + c)"
   ]
  }
 ],
 "metadata": {
  "kernelspec": {
   "display_name": "Python 3",
   "language": "python",
   "name": "python3"
  },
  "language_info": {
   "codemirror_mode": {
    "name": "ipython",
    "version": 3
   },
   "file_extension": ".py",
   "mimetype": "text/x-python",
   "name": "python",
   "nbconvert_exporter": "python",
   "pygments_lexer": "ipython3",
   "version": "3.6.5"
  }
 },
 "nbformat": 4,
 "nbformat_minor": 2
}
